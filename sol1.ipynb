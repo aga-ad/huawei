{
 "cells": [
  {
   "cell_type": "code",
   "execution_count": 11,
   "metadata": {},
   "outputs": [
    {
     "name": "stdout",
     "output_type": "stream",
     "text": [
      "The autoreload extension is already loaded. To reload it, use:\n",
      "  %reload_ext autoreload\n"
     ]
    },
    {
     "data": {
      "application/javascript": [
       "IPython.notebook.set_autosave_interval(15000)"
      ]
     },
     "metadata": {},
     "output_type": "display_data"
    },
    {
     "name": "stdout",
     "output_type": "stream",
     "text": [
      "Autosaving every 15 seconds\n"
     ]
    }
   ],
   "source": [
    "%matplotlib inline\n",
    "%load_ext autoreload\n",
    "%autoreload 5\n",
    "%autosave 15\n",
    "\n",
    "# Import libraries and set desired options\n",
    "import matplotlib.pyplot as plt\n",
    "import numpy as np\n",
    "import pandas as pd\n",
    "import seaborn as sns\n",
    "from IPython.display import display\n",
    "from scipy import sparse, stats\n",
    "from scipy.linalg import svd\n",
    "from sklearn import preprocessing\n",
    "from sklearn.decomposition import TruncatedSVD\n",
    "from sklearn.ensemble import RandomForestClassifier\n",
    "from sklearn.metrics import f1_score, roc_auc_score\n",
    "from sklearn.model_selection import (KFold, StratifiedKFold, cross_val_score,\n",
    "                                     cross_validate, train_test_split)\n",
    "from tqdm import tqdm\n",
    "from xgboost import XGBClassifier\n",
    "import implicit\n",
    "from scipy.sparse import csr_matrix\n",
    "import scipy as sc\n",
    "import datetime\n",
    "import os\n",
    "import skimage"
   ]
  },
  {
   "cell_type": "code",
   "execution_count": 82,
   "metadata": {},
   "outputs": [
    {
     "name": "stdout",
     "output_type": "stream",
     "text": [
      "0.0\n",
      "8.333333333333332\n",
      "16.666666666666664\n",
      "25.0\n",
      "33.33333333333333\n",
      "41.66666666666667\n",
      "50.0\n",
      "58.333333333333336\n",
      "66.66666666666666\n",
      "75.0\n",
      "83.33333333333334\n",
      "91.66666666666666\n"
     ]
    }
   ],
   "source": [
    "def dist(path, data_path, p, prefix):\n",
    "    m = 512 // p\n",
    "    files = sorted(os.listdir(path))\n",
    "    images = []\n",
    "    for file in files:\n",
    "        full_path = os.path.join(path, file)\n",
    "        image = skimage.io.imread(full_path)\n",
    "        images.append(image)\n",
    "    left = np.zeros((len(images), m, m, p, 3), dtype=np.uint8)\n",
    "    right = np.zeros((len(images), m, m, p, 3), dtype=np.uint8)\n",
    "    up = np.zeros((len(images), m, m, p, 3), dtype=np.uint8)\n",
    "    down = np.zeros((len(images), m, m, p, 3), dtype=np.uint8)\n",
    "    for i in range(len(images)):\n",
    "        image = images[i]\n",
    "        if len(image.shape) == 2:\n",
    "            image = np.stack((image // 256,)*3, axis=-1)\n",
    "        #print(i, image.max())\n",
    "        for x in range(m):\n",
    "            for y in range(m):\n",
    "                left[i][x][y] = image[p * x, p * y:p * (y + 1)]\n",
    "                right[i][x][y] = image[p * x + p - 1, p * y:p * (y + 1)]\n",
    "                up[i][x][y] = image[p * x: p * (x + 1), p * y]\n",
    "                down[i][x][y] = image[p * x: p * (x + 1), p * y + p - 1]\n",
    "    ud = np.zeros((len(images), m, m, m, m))\n",
    "    lr = np.zeros((len(images), m, m, m, m))\n",
    "    for i in range(len(images)):\n",
    "        if i % 50 == 0:\n",
    "            print(i / len(images) * 100)\n",
    "        for x1 in range(m):\n",
    "            for y1 in range(m):\n",
    "                for x2 in range(m):\n",
    "                    for y2 in range(m):\n",
    "                        ud[i][x1][y1][x2][y2] = np.abs(up[i][x1][y1] - down[i][x2][y2]).sum()\n",
    "                        lr[i][x1][y1][x2][y2] = np.abs(left[i][x1][y1] - right[i][x2][y2]).sum()\n",
    "    np.save(os.path.join(data_path, 'ud' + prefix), ud)\n",
    "    np.save(os.path.join(data_path, 'lr' + prefix), lr)\n",
    "dist('C:\\\\Users\\\\agano\\\\Documents\\\\notebooks\\\\huawei\\\\data_train\\\\32-sources',\\\n",
    "     'C:\\\\Users\\\\agano\\\\Documents\\\\notebooks\\\\huawei\\\\data_train\\\\data',\n",
    "     32, '32-sources')"
   ]
  },
  {
   "cell_type": "code",
   "execution_count": null,
   "metadata": {},
   "outputs": [
    {
     "name": "stdout",
     "output_type": "stream",
     "text": [
      "0.0\n"
     ]
    }
   ],
   "source": [
    "dist('C:\\\\Users\\\\agano\\\\Documents\\\\notebooks\\\\huawei\\\\data_train\\\\32',\\\n",
    "     'C:\\\\Users\\\\agano\\\\Documents\\\\notebooks\\\\huawei\\\\data_train\\\\data',\n",
    "     32, '32')\n",
    "dist('C:\\\\Users\\\\agano\\\\Documents\\\\notebooks\\\\huawei\\\\data_train\\\\16',\\\n",
    "     'C:\\\\Users\\\\agano\\\\Documents\\\\notebooks\\\\huawei\\\\data_train\\\\data',\n",
    "     16, '16')\n",
    "dist('C:\\\\Users\\\\agano\\\\Documents\\\\notebooks\\\\huawei\\\\data_train\\\\16-sources',\\\n",
    "     'C:\\\\Users\\\\agano\\\\Documents\\\\notebooks\\\\huawei\\\\data_train\\\\data',\n",
    "     16, '16-sources')"
   ]
  }
 ],
 "metadata": {
  "kernelspec": {
   "display_name": "Python [conda env:tf] *",
   "language": "python",
   "name": "conda-env-tf-py"
  },
  "language_info": {
   "codemirror_mode": {
    "name": "ipython",
    "version": 3
   },
   "file_extension": ".py",
   "mimetype": "text/x-python",
   "name": "python",
   "nbconvert_exporter": "python",
   "pygments_lexer": "ipython3",
   "version": "3.7.4"
  }
 },
 "nbformat": 4,
 "nbformat_minor": 2
}
